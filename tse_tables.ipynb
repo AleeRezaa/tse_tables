{
 "cells": [
  {
   "cell_type": "code",
   "execution_count": 8,
   "metadata": {},
   "outputs": [],
   "source": [
    "from bs4 import BeautifulSoup\n",
    "from json import dump, load\n",
    "from os import listdir\n",
    "import requests"
   ]
  },
  {
   "cell_type": "code",
   "execution_count": 9,
   "metadata": {},
   "outputs": [],
   "source": [
    "# # duplicate table\n",
    "# BeautifulSoup(requests.get(f'http://redirectcdn.tsetmc.com/Loader.aspx?ParTree={1}').content, 'html.parser')"
   ]
  },
  {
   "cell_type": "code",
   "execution_count": 10,
   "metadata": {},
   "outputs": [],
   "source": [
    "# # empty table\n",
    "# BeautifulSoup(requests.get(f'http://redirectcdn.tsetmc.com/Loader.aspx?ParTree={10}').content, 'html.parser')"
   ]
  },
  {
   "cell_type": "code",
   "execution_count": 11,
   "metadata": {},
   "outputs": [],
   "source": [
    "# # not empty table\n",
    "# BeautifulSoup(requests.get(f'http://redirectcdn.tsetmc.com/Loader.aspx?ParTree={151114}').content, 'html.parser')"
   ]
  },
  {
   "cell_type": "code",
   "execution_count": 12,
   "metadata": {},
   "outputs": [],
   "source": [
    "# read previous links\n",
    "\n",
    "if 'links.json' not in listdir():\n",
    "    with open('links.json', 'w') as linksFile:\n",
    "        dump({}, linksFile)\n",
    "with open('links.json', 'r') as linksFile:\n",
    "    links = load(linksFile)"
   ]
  },
  {
   "cell_type": "code",
   "execution_count": 13,
   "metadata": {},
   "outputs": [],
   "source": [
    "max_range = 1000\n",
    "for i in range(max_range + 1):\n",
    "    if str(i) not in links:\n",
    "        url = f'http://redirectcdn.tsetmc.com/Loader.aspx?ParTree={i}'\n",
    "        n = 0\n",
    "        while n < 5:\n",
    "            try:\n",
    "                soup = BeautifulSoup(requests.get(url).content, 'html.parser')\n",
    "                if len(soup.find_all()) in [20, 12] or len(soup.find_all('div', ['header'])) == 68:\n",
    "                    links[i] = ''\n",
    "                else:\n",
    "                    print(f'i{i} ({len(soup.find_all())}): {url}')\n",
    "                    links[i] = url\n",
    "                n = 5\n",
    "            except:\n",
    "                n += 1\n",
    "                print(f'error in i{i}: n{n}')\n",
    "        if i % 10 == 0 or i == max_range:\n",
    "            with open('links.json', 'w') as linksFile:\n",
    "                dump(links, linksFile, indent = 4)"
   ]
  },
  {
   "cell_type": "code",
   "execution_count": 14,
   "metadata": {},
   "outputs": [
    {
     "data": {
      "text/plain": [
       "['http://redirectcdn.tsetmc.com/Loader.aspx?ParTree=11',\n",
       " 'http://redirectcdn.tsetmc.com/Loader.aspx?ParTree=12',\n",
       " 'http://redirectcdn.tsetmc.com/Loader.aspx?ParTree=13']"
      ]
     },
     "execution_count": 14,
     "metadata": {},
     "output_type": "execute_result"
    }
   ],
   "source": [
    "usefulLinks = []\n",
    "for i in links:\n",
    "    if links[i] != '':\n",
    "        usefulLinks.append(links[i])\n",
    "with open('useful_links.json', 'w') as usefulLinksFile:\n",
    "    dump(usefulLinks, usefulLinksFile, indent = 4)\n",
    "usefulLinks"
   ]
  }
 ],
 "metadata": {
  "kernelspec": {
   "display_name": "Python 3",
   "language": "python",
   "name": "python3"
  },
  "language_info": {
   "codemirror_mode": {
    "name": "ipython",
    "version": 3
   },
   "file_extension": ".py",
   "mimetype": "text/x-python",
   "name": "python",
   "nbconvert_exporter": "python",
   "pygments_lexer": "ipython3",
   "version": "3.10.7"
  },
  "orig_nbformat": 4,
  "vscode": {
   "interpreter": {
    "hash": "5f87ccda23d1839c1b1f3532f996be54281d98465f26458a488c2cd73d2f9e8a"
   }
  }
 },
 "nbformat": 4,
 "nbformat_minor": 2
}
