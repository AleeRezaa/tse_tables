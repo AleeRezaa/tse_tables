{
 "cells": [
  {
   "cell_type": "code",
   "execution_count": 1,
   "metadata": {},
   "outputs": [],
   "source": [
    "from bs4 import BeautifulSoup\n",
    "from json import dump, load\n",
    "from os import listdir\n",
    "import requests"
   ]
  },
  {
   "cell_type": "code",
   "execution_count": 2,
   "metadata": {},
   "outputs": [],
   "source": [
    "# # empty table\n",
    "# BeautifulSoup(requests.get(f'http://redirectcdn.tsetmc.com/Loader.aspx?ParTree={10}').content, 'html.parser')\n"
   ]
  },
  {
   "cell_type": "code",
   "execution_count": 3,
   "metadata": {},
   "outputs": [],
   "source": [
    "# # not empty table\n",
    "# BeautifulSoup(requests.get(f'http://redirectcdn.tsetmc.com/Loader.aspx?ParTree={151114}').content, 'html.parser')"
   ]
  },
  {
   "cell_type": "code",
   "execution_count": 4,
   "metadata": {},
   "outputs": [
    {
     "data": {
      "text/plain": [
       "{}"
      ]
     },
     "execution_count": 4,
     "metadata": {},
     "output_type": "execute_result"
    }
   ],
   "source": [
    "# read previous links\n",
    "\n",
    "if 'links.json' not in listdir():\n",
    "    with open('links.json', 'w') as linksFile:\n",
    "        dump({}, linksFile)\n",
    "with open('links.json', 'r') as linksFile:\n",
    "    links = load(linksFile)\n",
    "links"
   ]
  },
  {
   "cell_type": "code",
   "execution_count": 9,
   "metadata": {},
   "outputs": [
    {
     "name": "stdout",
     "output_type": "stream",
     "text": [
      "i101 (23227): http://redirectcdn.tsetmc.com/Loader.aspx?ParTree=101\n",
      "i102 (23227): http://redirectcdn.tsetmc.com/Loader.aspx?ParTree=102\n",
      "i103 (23227): http://redirectcdn.tsetmc.com/Loader.aspx?ParTree=103\n",
      "i104 (23229): http://redirectcdn.tsetmc.com/Loader.aspx?ParTree=104\n",
      "i105 (23227): http://redirectcdn.tsetmc.com/Loader.aspx?ParTree=105\n",
      "i106 (23229): http://redirectcdn.tsetmc.com/Loader.aspx?ParTree=106\n",
      "i107 (23227): http://redirectcdn.tsetmc.com/Loader.aspx?ParTree=107\n",
      "i108 (23227): http://redirectcdn.tsetmc.com/Loader.aspx?ParTree=108\n",
      "i109 (23229): http://redirectcdn.tsetmc.com/Loader.aspx?ParTree=109\n",
      "i110 (23227): http://redirectcdn.tsetmc.com/Loader.aspx?ParTree=110\n",
      "i111 (23227): http://redirectcdn.tsetmc.com/Loader.aspx?ParTree=111\n",
      "i112 (23229): http://redirectcdn.tsetmc.com/Loader.aspx?ParTree=112\n",
      "i113 (23229): http://redirectcdn.tsetmc.com/Loader.aspx?ParTree=113\n",
      "i114 (23239): http://redirectcdn.tsetmc.com/Loader.aspx?ParTree=114\n",
      "i115 (23239): http://redirectcdn.tsetmc.com/Loader.aspx?ParTree=115\n",
      "i116 (23238): http://redirectcdn.tsetmc.com/Loader.aspx?ParTree=116\n",
      "i117 (23239): http://redirectcdn.tsetmc.com/Loader.aspx?ParTree=117\n",
      "i118 (23237): http://redirectcdn.tsetmc.com/Loader.aspx?ParTree=118\n",
      "i119 (23239): http://redirectcdn.tsetmc.com/Loader.aspx?ParTree=119\n",
      "i120 (23239): http://redirectcdn.tsetmc.com/Loader.aspx?ParTree=120\n",
      "i121 (23237): http://redirectcdn.tsetmc.com/Loader.aspx?ParTree=121\n",
      "i122 (23239): http://redirectcdn.tsetmc.com/Loader.aspx?ParTree=122\n",
      "i123 (23248): http://redirectcdn.tsetmc.com/Loader.aspx?ParTree=123\n",
      "i124 (23247): http://redirectcdn.tsetmc.com/Loader.aspx?ParTree=124\n",
      "i125 (23246): http://redirectcdn.tsetmc.com/Loader.aspx?ParTree=125\n",
      "i126 (23248): http://redirectcdn.tsetmc.com/Loader.aspx?ParTree=126\n",
      "i127 (23248): http://redirectcdn.tsetmc.com/Loader.aspx?ParTree=127\n",
      "i128 (23247): http://redirectcdn.tsetmc.com/Loader.aspx?ParTree=128\n",
      "i129 (23247): http://redirectcdn.tsetmc.com/Loader.aspx?ParTree=129\n",
      "i130 (23247): http://redirectcdn.tsetmc.com/Loader.aspx?ParTree=130\n",
      "i131 (23246): http://redirectcdn.tsetmc.com/Loader.aspx?ParTree=131\n",
      "i132 (23247): http://redirectcdn.tsetmc.com/Loader.aspx?ParTree=132\n",
      "i133 (23247): http://redirectcdn.tsetmc.com/Loader.aspx?ParTree=133\n",
      "i134 (23247): http://redirectcdn.tsetmc.com/Loader.aspx?ParTree=134\n",
      "i135 (23247): http://redirectcdn.tsetmc.com/Loader.aspx?ParTree=135\n",
      "i136 (23246): http://redirectcdn.tsetmc.com/Loader.aspx?ParTree=136\n",
      "i137 (23246): http://redirectcdn.tsetmc.com/Loader.aspx?ParTree=137\n",
      "i138 (23246): http://redirectcdn.tsetmc.com/Loader.aspx?ParTree=138\n",
      "i139 (23246): http://redirectcdn.tsetmc.com/Loader.aspx?ParTree=139\n",
      "i140 (12): http://redirectcdn.tsetmc.com/Loader.aspx?ParTree=140\n",
      "i141 (23246): http://redirectcdn.tsetmc.com/Loader.aspx?ParTree=141\n",
      "i142 (23247): http://redirectcdn.tsetmc.com/Loader.aspx?ParTree=142\n",
      "i143 (23247): http://redirectcdn.tsetmc.com/Loader.aspx?ParTree=143\n",
      "i144 (23247): http://redirectcdn.tsetmc.com/Loader.aspx?ParTree=144\n",
      "i145 (12): http://redirectcdn.tsetmc.com/Loader.aspx?ParTree=145\n",
      "i146 (23247): http://redirectcdn.tsetmc.com/Loader.aspx?ParTree=146\n",
      "i147 (12): http://redirectcdn.tsetmc.com/Loader.aspx?ParTree=147\n",
      "i148 (12): http://redirectcdn.tsetmc.com/Loader.aspx?ParTree=148\n",
      "i149 (23247): http://redirectcdn.tsetmc.com/Loader.aspx?ParTree=149\n",
      "i150 (23247): http://redirectcdn.tsetmc.com/Loader.aspx?ParTree=150\n",
      "i151 (23247): http://redirectcdn.tsetmc.com/Loader.aspx?ParTree=151\n",
      "i152 (23247): http://redirectcdn.tsetmc.com/Loader.aspx?ParTree=152\n",
      "i153 (23247): http://redirectcdn.tsetmc.com/Loader.aspx?ParTree=153\n",
      "i154 (23257): http://redirectcdn.tsetmc.com/Loader.aspx?ParTree=154\n",
      "i155 (23257): http://redirectcdn.tsetmc.com/Loader.aspx?ParTree=155\n",
      "i156 (23256): http://redirectcdn.tsetmc.com/Loader.aspx?ParTree=156\n",
      "i157 (23256): http://redirectcdn.tsetmc.com/Loader.aspx?ParTree=157\n",
      "i158 (23256): http://redirectcdn.tsetmc.com/Loader.aspx?ParTree=158\n",
      "i159 (23256): http://redirectcdn.tsetmc.com/Loader.aspx?ParTree=159\n",
      "i160 (23256): http://redirectcdn.tsetmc.com/Loader.aspx?ParTree=160\n",
      "i161 (23256): http://redirectcdn.tsetmc.com/Loader.aspx?ParTree=161\n",
      "i162 (23256): http://redirectcdn.tsetmc.com/Loader.aspx?ParTree=162\n",
      "i163 (23256): http://redirectcdn.tsetmc.com/Loader.aspx?ParTree=163\n",
      "i164 (23256): http://redirectcdn.tsetmc.com/Loader.aspx?ParTree=164\n",
      "i165 (23256): http://redirectcdn.tsetmc.com/Loader.aspx?ParTree=165\n",
      "i166 (23256): http://redirectcdn.tsetmc.com/Loader.aspx?ParTree=166\n",
      "i167 (23256): http://redirectcdn.tsetmc.com/Loader.aspx?ParTree=167\n",
      "i168 (23256): http://redirectcdn.tsetmc.com/Loader.aspx?ParTree=168\n",
      "i169 (23256): http://redirectcdn.tsetmc.com/Loader.aspx?ParTree=169\n",
      "i170 (23256): http://redirectcdn.tsetmc.com/Loader.aspx?ParTree=170\n",
      "i171 (23256): http://redirectcdn.tsetmc.com/Loader.aspx?ParTree=171\n"
     ]
    }
   ],
   "source": [
    "max_range = 1000\n",
    "for i in range(max_range + 1):\n",
    "    if i not in links:\n",
    "        url = f'http://redirectcdn.tsetmc.com/Loader.aspx?ParTree={i}'\n",
    "        n = 0\n",
    "        while n < 5:\n",
    "            try:\n",
    "                soup = BeautifulSoup(requests.get(url).content, 'html.parser')\n",
    "                if len(soup.find_all()) != 20 and len(soup.find_all()) != 12 and len(soup.find_all()) < 20000:\n",
    "                    print(f'i{i} ({len(soup.find_all())}): {url}')\n",
    "                    links[i] = url\n",
    "                else:\n",
    "                    links[i] = ''\n",
    "                n = 5\n",
    "            except:\n",
    "                n += 1\n",
    "                print(f'error in i{i}: n{n}')\n",
    "        if i % 10 == 0 or i == max_range:\n",
    "            with open('links.json', 'w') as linksFile:\n",
    "                dump(links, linksFile, indent = 4)"
   ]
  }
 ],
 "metadata": {
  "kernelspec": {
   "display_name": "Python 3",
   "language": "python",
   "name": "python3"
  },
  "language_info": {
   "codemirror_mode": {
    "name": "ipython",
    "version": 3
   },
   "file_extension": ".py",
   "mimetype": "text/x-python",
   "name": "python",
   "nbconvert_exporter": "python",
   "pygments_lexer": "ipython3",
   "version": "3.10.7"
  },
  "orig_nbformat": 4,
  "vscode": {
   "interpreter": {
    "hash": "5f87ccda23d1839c1b1f3532f996be54281d98465f26458a488c2cd73d2f9e8a"
   }
  }
 },
 "nbformat": 4,
 "nbformat_minor": 2
}
